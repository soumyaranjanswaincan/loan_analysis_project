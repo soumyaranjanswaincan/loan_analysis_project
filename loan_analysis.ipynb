{
 "cells": [
  {
   "cell_type": "code",
   "execution_count": 2,
   "metadata": {},
   "outputs": [],
   "source": [
    "# Import the modules\n",
    "import numpy as np\n",
    "import pandas as pd\n",
    "from pathlib import Path\n",
    "from sklearn.metrics import confusion_matrix, classification_report\n",
    "from sklearn.model_selection import train_test_split\n",
    "from sklearn.preprocessing import StandardScaler\n",
    "\n"
   ]
  },
  {
   "cell_type": "code",
   "execution_count": 3,
   "metadata": {},
   "outputs": [
    {
     "data": {
      "text/html": [
       "<div>\n",
       "<style scoped>\n",
       "    .dataframe tbody tr th:only-of-type {\n",
       "        vertical-align: middle;\n",
       "    }\n",
       "\n",
       "    .dataframe tbody tr th {\n",
       "        vertical-align: top;\n",
       "    }\n",
       "\n",
       "    .dataframe thead th {\n",
       "        text-align: right;\n",
       "    }\n",
       "</style>\n",
       "<table border=\"1\" class=\"dataframe\">\n",
       "  <thead>\n",
       "    <tr style=\"text-align: right;\">\n",
       "      <th></th>\n",
       "      <th>loan_amnt</th>\n",
       "      <th>term</th>\n",
       "      <th>int_rate</th>\n",
       "      <th>installment</th>\n",
       "      <th>grade</th>\n",
       "      <th>sub_grade</th>\n",
       "      <th>emp_title</th>\n",
       "      <th>emp_length</th>\n",
       "      <th>home_ownership</th>\n",
       "      <th>annual_inc</th>\n",
       "      <th>...</th>\n",
       "      <th>open_acc</th>\n",
       "      <th>pub_rec</th>\n",
       "      <th>revol_bal</th>\n",
       "      <th>revol_util</th>\n",
       "      <th>total_acc</th>\n",
       "      <th>initial_list_status</th>\n",
       "      <th>application_type</th>\n",
       "      <th>mort_acc</th>\n",
       "      <th>pub_rec_bankruptcies</th>\n",
       "      <th>address</th>\n",
       "    </tr>\n",
       "  </thead>\n",
       "  <tbody>\n",
       "    <tr>\n",
       "      <th>0</th>\n",
       "      <td>10000.0</td>\n",
       "      <td>36 months</td>\n",
       "      <td>11.44</td>\n",
       "      <td>329.48</td>\n",
       "      <td>B</td>\n",
       "      <td>B4</td>\n",
       "      <td>Marketing</td>\n",
       "      <td>10+ years</td>\n",
       "      <td>RENT</td>\n",
       "      <td>117000.0</td>\n",
       "      <td>...</td>\n",
       "      <td>16.0</td>\n",
       "      <td>0.0</td>\n",
       "      <td>36369.0</td>\n",
       "      <td>41.8</td>\n",
       "      <td>25.0</td>\n",
       "      <td>w</td>\n",
       "      <td>INDIVIDUAL</td>\n",
       "      <td>0.0</td>\n",
       "      <td>0.0</td>\n",
       "      <td>0174 Michelle Gateway\\nMendozaberg, OK 22690</td>\n",
       "    </tr>\n",
       "    <tr>\n",
       "      <th>1</th>\n",
       "      <td>8000.0</td>\n",
       "      <td>36 months</td>\n",
       "      <td>11.99</td>\n",
       "      <td>265.68</td>\n",
       "      <td>B</td>\n",
       "      <td>B5</td>\n",
       "      <td>Credit analyst</td>\n",
       "      <td>4 years</td>\n",
       "      <td>MORTGAGE</td>\n",
       "      <td>65000.0</td>\n",
       "      <td>...</td>\n",
       "      <td>17.0</td>\n",
       "      <td>0.0</td>\n",
       "      <td>20131.0</td>\n",
       "      <td>53.3</td>\n",
       "      <td>27.0</td>\n",
       "      <td>f</td>\n",
       "      <td>INDIVIDUAL</td>\n",
       "      <td>3.0</td>\n",
       "      <td>0.0</td>\n",
       "      <td>1076 Carney Fort Apt. 347\\nLoganmouth, SD 05113</td>\n",
       "    </tr>\n",
       "    <tr>\n",
       "      <th>2</th>\n",
       "      <td>15600.0</td>\n",
       "      <td>36 months</td>\n",
       "      <td>10.49</td>\n",
       "      <td>506.97</td>\n",
       "      <td>B</td>\n",
       "      <td>B3</td>\n",
       "      <td>Statistician</td>\n",
       "      <td>&lt; 1 year</td>\n",
       "      <td>RENT</td>\n",
       "      <td>43057.0</td>\n",
       "      <td>...</td>\n",
       "      <td>13.0</td>\n",
       "      <td>0.0</td>\n",
       "      <td>11987.0</td>\n",
       "      <td>92.2</td>\n",
       "      <td>26.0</td>\n",
       "      <td>f</td>\n",
       "      <td>INDIVIDUAL</td>\n",
       "      <td>0.0</td>\n",
       "      <td>0.0</td>\n",
       "      <td>87025 Mark Dale Apt. 269\\nNew Sabrina, WV 05113</td>\n",
       "    </tr>\n",
       "    <tr>\n",
       "      <th>3</th>\n",
       "      <td>7200.0</td>\n",
       "      <td>36 months</td>\n",
       "      <td>6.49</td>\n",
       "      <td>220.65</td>\n",
       "      <td>A</td>\n",
       "      <td>A2</td>\n",
       "      <td>Client Advocate</td>\n",
       "      <td>6 years</td>\n",
       "      <td>RENT</td>\n",
       "      <td>54000.0</td>\n",
       "      <td>...</td>\n",
       "      <td>6.0</td>\n",
       "      <td>0.0</td>\n",
       "      <td>5472.0</td>\n",
       "      <td>21.5</td>\n",
       "      <td>13.0</td>\n",
       "      <td>f</td>\n",
       "      <td>INDIVIDUAL</td>\n",
       "      <td>0.0</td>\n",
       "      <td>0.0</td>\n",
       "      <td>823 Reid Ford\\nDelacruzside, MA 00813</td>\n",
       "    </tr>\n",
       "    <tr>\n",
       "      <th>4</th>\n",
       "      <td>24375.0</td>\n",
       "      <td>60 months</td>\n",
       "      <td>17.27</td>\n",
       "      <td>609.33</td>\n",
       "      <td>C</td>\n",
       "      <td>C5</td>\n",
       "      <td>Destiny Management Inc.</td>\n",
       "      <td>9 years</td>\n",
       "      <td>MORTGAGE</td>\n",
       "      <td>55000.0</td>\n",
       "      <td>...</td>\n",
       "      <td>13.0</td>\n",
       "      <td>0.0</td>\n",
       "      <td>24584.0</td>\n",
       "      <td>69.8</td>\n",
       "      <td>43.0</td>\n",
       "      <td>f</td>\n",
       "      <td>INDIVIDUAL</td>\n",
       "      <td>1.0</td>\n",
       "      <td>0.0</td>\n",
       "      <td>679 Luna Roads\\nGreggshire, VA 11650</td>\n",
       "    </tr>\n",
       "  </tbody>\n",
       "</table>\n",
       "<p>5 rows × 27 columns</p>\n",
       "</div>"
      ],
      "text/plain": [
       "   loan_amnt        term  int_rate  installment grade sub_grade  \\\n",
       "0    10000.0   36 months     11.44       329.48     B        B4   \n",
       "1     8000.0   36 months     11.99       265.68     B        B5   \n",
       "2    15600.0   36 months     10.49       506.97     B        B3   \n",
       "3     7200.0   36 months      6.49       220.65     A        A2   \n",
       "4    24375.0   60 months     17.27       609.33     C        C5   \n",
       "\n",
       "                 emp_title emp_length home_ownership  annual_inc  ...  \\\n",
       "0                Marketing  10+ years           RENT    117000.0  ...   \n",
       "1          Credit analyst     4 years       MORTGAGE     65000.0  ...   \n",
       "2             Statistician   < 1 year           RENT     43057.0  ...   \n",
       "3          Client Advocate    6 years           RENT     54000.0  ...   \n",
       "4  Destiny Management Inc.    9 years       MORTGAGE     55000.0  ...   \n",
       "\n",
       "  open_acc pub_rec revol_bal revol_util total_acc  initial_list_status  \\\n",
       "0     16.0     0.0   36369.0       41.8      25.0                    w   \n",
       "1     17.0     0.0   20131.0       53.3      27.0                    f   \n",
       "2     13.0     0.0   11987.0       92.2      26.0                    f   \n",
       "3      6.0     0.0    5472.0       21.5      13.0                    f   \n",
       "4     13.0     0.0   24584.0       69.8      43.0                    f   \n",
       "\n",
       "  application_type  mort_acc  pub_rec_bankruptcies  \\\n",
       "0       INDIVIDUAL       0.0                   0.0   \n",
       "1       INDIVIDUAL       3.0                   0.0   \n",
       "2       INDIVIDUAL       0.0                   0.0   \n",
       "3       INDIVIDUAL       0.0                   0.0   \n",
       "4       INDIVIDUAL       1.0                   0.0   \n",
       "\n",
       "                                           address  \n",
       "0     0174 Michelle Gateway\\nMendozaberg, OK 22690  \n",
       "1  1076 Carney Fort Apt. 347\\nLoganmouth, SD 05113  \n",
       "2  87025 Mark Dale Apt. 269\\nNew Sabrina, WV 05113  \n",
       "3            823 Reid Ford\\nDelacruzside, MA 00813  \n",
       "4             679 Luna Roads\\nGreggshire, VA 11650  \n",
       "\n",
       "[5 rows x 27 columns]"
      ]
     },
     "execution_count": 3,
     "metadata": {},
     "output_type": "execute_result"
    }
   ],
   "source": [
    "# Read the CSV file from the Resources folder into a Pandas DataFrame\n",
    "df = pd.read_csv(\n",
    "    Path('Resources/logistic_regression.csv')   \n",
    ")\n",
    "\n",
    "# Review the DataFrame\n",
    "df.head()"
   ]
  },
  {
   "cell_type": "markdown",
   "metadata": {},
   "source": [
    "Data dictionary:\n",
    "\n",
    "loan_amnt : The listed amount of the loan applied for by the borrower. If at some point in time, the credit department reduces the loan amount, then it will be reflected in this value.\n",
    "term : The number of payments on the loan. Values are in months and can be either 36 or 60.\n",
    "int_rate : Interest Rate on the loan\n",
    "installment : The monthly payment owed by the borrower if the loan originates.\n",
    "grade : LoanTap assigned loan grade\n",
    "sub_grade : LoanTap assigned loan subgrade\n",
    "emp_title :The job title supplied by the Borrower when applying for the loan.*\n",
    "emp_length : Employment length in years. Possible values are between 0 and 10 where 0 means less than one year and 10 means ten or more years.\n",
    "home_ownership : The home ownership status provided by the borrower during registration or obtained from the credit report.\n",
    "annual_inc : The self-reported annual income provided by the borrower during registration.\n",
    "verification_status : Indicates if income was verified by LoanTap, not verified, or if the income source was verified\n",
    "issue_d : The month which the loan was funded\n",
    "loan_status : Current status of the loan - Target Variable\n",
    "purpose : A category provided by the borrower for the loan request.\n",
    "title : The loan title provided by the borrower\n",
    "dti : A ratio calculated using the borrower’s total monthly debt payments on the total debt obligations, excluding mortgage and the requested LoanTap loan, divided by the borrower’s self-reported monthly income.\n",
    "earliest_cr_line :The month the borrower's earliest reported credit line was opened\n",
    "open_acc : The number of open credit lines in the borrower's credit file.\n",
    "pub_rec : Number of derogatory public records\n",
    "revol_bal : Total credit revolving balance\n",
    "revol_util : Revolving line utilization rate, or the amount of credit the borrower is using relative to all available revolving credit.\n",
    "total_acc : The total number of credit lines currently in the borrower's credit file\n",
    "initial_list_status : The initial listing status of the loan. Possible values are – W, F\n",
    "application_type : Indicates whether the loan is an individual application or a joint application with two co-borrowers\n",
    "mort_acc : Number of mortgage accounts.\n",
    "pub_rec_bankruptcies : Number of public record bankruptcies\n",
    "Address: Address of the individual"
   ]
  },
  {
   "cell_type": "code",
   "execution_count": 4,
   "metadata": {},
   "outputs": [
    {
     "data": {
      "text/html": [
       "<div>\n",
       "<style scoped>\n",
       "    .dataframe tbody tr th:only-of-type {\n",
       "        vertical-align: middle;\n",
       "    }\n",
       "\n",
       "    .dataframe tbody tr th {\n",
       "        vertical-align: top;\n",
       "    }\n",
       "\n",
       "    .dataframe thead th {\n",
       "        text-align: right;\n",
       "    }\n",
       "</style>\n",
       "<table border=\"1\" class=\"dataframe\">\n",
       "  <thead>\n",
       "    <tr style=\"text-align: right;\">\n",
       "      <th></th>\n",
       "      <th>loan_amnt</th>\n",
       "      <th>term</th>\n",
       "      <th>int_rate</th>\n",
       "      <th>installment</th>\n",
       "      <th>grade</th>\n",
       "      <th>sub_grade</th>\n",
       "      <th>emp_length</th>\n",
       "      <th>home_ownership</th>\n",
       "      <th>annual_inc</th>\n",
       "      <th>loan_status</th>\n",
       "      <th>purpose</th>\n",
       "      <th>dti</th>\n",
       "      <th>open_acc</th>\n",
       "      <th>revol_bal</th>\n",
       "      <th>revol_util</th>\n",
       "      <th>total_acc</th>\n",
       "      <th>application_type</th>\n",
       "      <th>mort_acc</th>\n",
       "      <th>pub_rec_bankruptcies</th>\n",
       "    </tr>\n",
       "  </thead>\n",
       "  <tbody>\n",
       "    <tr>\n",
       "      <th>0</th>\n",
       "      <td>10000.0</td>\n",
       "      <td>36 months</td>\n",
       "      <td>11.44</td>\n",
       "      <td>329.48</td>\n",
       "      <td>B</td>\n",
       "      <td>B4</td>\n",
       "      <td>10+ years</td>\n",
       "      <td>RENT</td>\n",
       "      <td>117000.0</td>\n",
       "      <td>Fully Paid</td>\n",
       "      <td>vacation</td>\n",
       "      <td>26.24</td>\n",
       "      <td>16.0</td>\n",
       "      <td>36369.0</td>\n",
       "      <td>41.8</td>\n",
       "      <td>25.0</td>\n",
       "      <td>INDIVIDUAL</td>\n",
       "      <td>0.0</td>\n",
       "      <td>0.0</td>\n",
       "    </tr>\n",
       "    <tr>\n",
       "      <th>1</th>\n",
       "      <td>8000.0</td>\n",
       "      <td>36 months</td>\n",
       "      <td>11.99</td>\n",
       "      <td>265.68</td>\n",
       "      <td>B</td>\n",
       "      <td>B5</td>\n",
       "      <td>4 years</td>\n",
       "      <td>MORTGAGE</td>\n",
       "      <td>65000.0</td>\n",
       "      <td>Fully Paid</td>\n",
       "      <td>debt_consolidation</td>\n",
       "      <td>22.05</td>\n",
       "      <td>17.0</td>\n",
       "      <td>20131.0</td>\n",
       "      <td>53.3</td>\n",
       "      <td>27.0</td>\n",
       "      <td>INDIVIDUAL</td>\n",
       "      <td>3.0</td>\n",
       "      <td>0.0</td>\n",
       "    </tr>\n",
       "    <tr>\n",
       "      <th>2</th>\n",
       "      <td>15600.0</td>\n",
       "      <td>36 months</td>\n",
       "      <td>10.49</td>\n",
       "      <td>506.97</td>\n",
       "      <td>B</td>\n",
       "      <td>B3</td>\n",
       "      <td>&lt; 1 year</td>\n",
       "      <td>RENT</td>\n",
       "      <td>43057.0</td>\n",
       "      <td>Fully Paid</td>\n",
       "      <td>credit_card</td>\n",
       "      <td>12.79</td>\n",
       "      <td>13.0</td>\n",
       "      <td>11987.0</td>\n",
       "      <td>92.2</td>\n",
       "      <td>26.0</td>\n",
       "      <td>INDIVIDUAL</td>\n",
       "      <td>0.0</td>\n",
       "      <td>0.0</td>\n",
       "    </tr>\n",
       "    <tr>\n",
       "      <th>3</th>\n",
       "      <td>7200.0</td>\n",
       "      <td>36 months</td>\n",
       "      <td>6.49</td>\n",
       "      <td>220.65</td>\n",
       "      <td>A</td>\n",
       "      <td>A2</td>\n",
       "      <td>6 years</td>\n",
       "      <td>RENT</td>\n",
       "      <td>54000.0</td>\n",
       "      <td>Fully Paid</td>\n",
       "      <td>credit_card</td>\n",
       "      <td>2.60</td>\n",
       "      <td>6.0</td>\n",
       "      <td>5472.0</td>\n",
       "      <td>21.5</td>\n",
       "      <td>13.0</td>\n",
       "      <td>INDIVIDUAL</td>\n",
       "      <td>0.0</td>\n",
       "      <td>0.0</td>\n",
       "    </tr>\n",
       "    <tr>\n",
       "      <th>4</th>\n",
       "      <td>24375.0</td>\n",
       "      <td>60 months</td>\n",
       "      <td>17.27</td>\n",
       "      <td>609.33</td>\n",
       "      <td>C</td>\n",
       "      <td>C5</td>\n",
       "      <td>9 years</td>\n",
       "      <td>MORTGAGE</td>\n",
       "      <td>55000.0</td>\n",
       "      <td>Charged Off</td>\n",
       "      <td>credit_card</td>\n",
       "      <td>33.95</td>\n",
       "      <td>13.0</td>\n",
       "      <td>24584.0</td>\n",
       "      <td>69.8</td>\n",
       "      <td>43.0</td>\n",
       "      <td>INDIVIDUAL</td>\n",
       "      <td>1.0</td>\n",
       "      <td>0.0</td>\n",
       "    </tr>\n",
       "  </tbody>\n",
       "</table>\n",
       "</div>"
      ],
      "text/plain": [
       "   loan_amnt        term  int_rate  installment grade sub_grade emp_length  \\\n",
       "0    10000.0   36 months     11.44       329.48     B        B4  10+ years   \n",
       "1     8000.0   36 months     11.99       265.68     B        B5    4 years   \n",
       "2    15600.0   36 months     10.49       506.97     B        B3   < 1 year   \n",
       "3     7200.0   36 months      6.49       220.65     A        A2    6 years   \n",
       "4    24375.0   60 months     17.27       609.33     C        C5    9 years   \n",
       "\n",
       "  home_ownership  annual_inc  loan_status             purpose    dti  \\\n",
       "0           RENT    117000.0   Fully Paid            vacation  26.24   \n",
       "1       MORTGAGE     65000.0   Fully Paid  debt_consolidation  22.05   \n",
       "2           RENT     43057.0   Fully Paid         credit_card  12.79   \n",
       "3           RENT     54000.0   Fully Paid         credit_card   2.60   \n",
       "4       MORTGAGE     55000.0  Charged Off         credit_card  33.95   \n",
       "\n",
       "   open_acc  revol_bal  revol_util  total_acc application_type  mort_acc  \\\n",
       "0      16.0    36369.0        41.8       25.0       INDIVIDUAL       0.0   \n",
       "1      17.0    20131.0        53.3       27.0       INDIVIDUAL       3.0   \n",
       "2      13.0    11987.0        92.2       26.0       INDIVIDUAL       0.0   \n",
       "3       6.0     5472.0        21.5       13.0       INDIVIDUAL       0.0   \n",
       "4      13.0    24584.0        69.8       43.0       INDIVIDUAL       1.0   \n",
       "\n",
       "   pub_rec_bankruptcies  \n",
       "0                   0.0  \n",
       "1                   0.0  \n",
       "2                   0.0  \n",
       "3                   0.0  \n",
       "4                   0.0  "
      ]
     },
     "execution_count": 4,
     "metadata": {},
     "output_type": "execute_result"
    }
   ],
   "source": [
    "#drop columns that are not relevant to our analysis\n",
    "clean_df = df.drop(columns =['verification_status','emp_title','title','initial_list_status','address','issue_d','pub_rec','earliest_cr_line'])\n",
    "clean_df.head()"
   ]
  },
  {
   "cell_type": "code",
   "execution_count": 5,
   "metadata": {},
   "outputs": [],
   "source": [
    "#Deleting rows with null values\n",
    "columns_to_check = ['revol_util', 'mort_acc','pub_rec_bankruptcies','emp_length']\n",
    "clean_df.dropna(subset=columns_to_check, inplace=True)\n"
   ]
  },
  {
   "cell_type": "code",
   "execution_count": 6,
   "metadata": {},
   "outputs": [
    {
     "data": {
      "text/plain": [
       "340775"
      ]
     },
     "execution_count": 6,
     "metadata": {},
     "output_type": "execute_result"
    }
   ],
   "source": [
    "#Store the dataframe in sqlite\n",
    "from sqlalchemy import create_engine\n",
    "engine = create_engine('sqlite:///SQL/Loan_data.db')\n",
    "clean_df.to_sql('Loan_data', con=engine, index=False)"
   ]
  },
  {
   "cell_type": "code",
   "execution_count": 7,
   "metadata": {},
   "outputs": [],
   "source": [
    "# Convert categorical data to numeric with `pd.get_dummies`\n",
    "categorical_columns =[\"term\",\"grade\",\"sub_grade\",\"emp_length\",\"home_ownership\",\"purpose\",\"application_type\"]\n",
    "\n",
    "df_dummies = pd.get_dummies(clean_df[categorical_columns])\n",
    "\n",
    "# Merge the encoded columns back to the original DataFrame\n",
    "clean_df = pd.concat([clean_df, df_dummies], axis=1)\n",
    "\n",
    "# Drop the original categorical\n",
    "clean_df.drop(categorical_columns, axis=1, inplace=True)\n"
   ]
  },
  {
   "cell_type": "code",
   "execution_count": 8,
   "metadata": {},
   "outputs": [],
   "source": [
    "#if the loan was paid the value is changed to 1 if the loan was charged off the value is changed to 0\n",
    "clean_df['loan_status'] = clean_df['loan_status'].replace({'Fully Paid': 1, 'Charged Off': 0})"
   ]
  },
  {
   "cell_type": "code",
   "execution_count": 9,
   "metadata": {},
   "outputs": [],
   "source": [
    "# Split our preprocessed data into our features and target arrays\n",
    "\n",
    "y = clean_df[\"loan_status\"].values\n",
    "X = clean_df.drop(columns=[\"loan_status\"]).values\n",
    "\n",
    "# Split the preprocessed data into a training and testing dataset\n",
    "\n",
    "X_train, X_test, y_train, y_test = train_test_split(X, y, random_state=78)"
   ]
  },
  {
   "cell_type": "code",
   "execution_count": 10,
   "metadata": {},
   "outputs": [],
   "source": [
    "# Create a StandardScaler instances\n",
    "scaler = StandardScaler()\n",
    "\n",
    "# Fit the StandardScaler\n",
    "X_scaler = scaler.fit(X_train)\n",
    "\n",
    "# Scale the data\n",
    "X_train_scaled = X_scaler.transform(X_train)\n",
    "X_test_scaled = X_scaler.transform(X_test)"
   ]
  },
  {
   "cell_type": "code",
   "execution_count": 11,
   "metadata": {},
   "outputs": [],
   "source": [
    "# Import the LogisticRegression module from SKLearn\n",
    "from sklearn.linear_model import LogisticRegression\n",
    "\n",
    "# Instantiate the Logistic Regression model\n",
    "logistic_regression_model = LogisticRegression(random_state=78)\n",
    "\n",
    "# Fit the model using training data\n",
    "lr_model = logistic_regression_model.fit(X_train_scaled, y_train)"
   ]
  },
  {
   "cell_type": "code",
   "execution_count": 12,
   "metadata": {},
   "outputs": [],
   "source": [
    "# Make a prediction using the testing data\n",
    "testing_predictions = logistic_regression_model.predict(X_test_scaled)"
   ]
  },
  {
   "cell_type": "code",
   "execution_count": 13,
   "metadata": {},
   "outputs": [],
   "source": [
    "# Generate a confusion matrix for the model\n",
    "testing_matrix = confusion_matrix(y_test, testing_predictions)"
   ]
  },
  {
   "cell_type": "code",
   "execution_count": 14,
   "metadata": {},
   "outputs": [
    {
     "name": "stdout",
     "output_type": "stream",
     "text": [
      "[[ 1138 15800]\n",
      " [  936 67320]]\n"
     ]
    }
   ],
   "source": [
    "# Print the classification report for the model\n",
    "#TP: 1138 True Negative\n",
    "#FN: 15800 False Positive\n",
    "#FP: 936 False Negative\n",
    "#TN: 67320 True positive\n",
    "print(testing_matrix)"
   ]
  },
  {
   "cell_type": "code",
   "execution_count": 16,
   "metadata": {},
   "outputs": [],
   "source": [
    "#Model evaluation \n",
    "cm = confusion_matrix(y_test, testing_predictions)\n",
    "cm_df = pd.DataFrame(\n",
    "    cm, index=[\"Actual 0\", \"Actual 1\"], columns=[\"Predicted 0\", \"Predicted 1\"]\n",
    ")\n",
    "\n",
    "# Calculating the accuracy score\n",
    "from sklearn.metrics import accuracy_score\n",
    "acc_score = accuracy_score(y_test, testing_predictions)"
   ]
  },
  {
   "cell_type": "code",
   "execution_count": 17,
   "metadata": {},
   "outputs": [
    {
     "name": "stdout",
     "output_type": "stream",
     "text": [
      "Confusion Matrix\n"
     ]
    },
    {
     "data": {
      "text/html": [
       "<div>\n",
       "<style scoped>\n",
       "    .dataframe tbody tr th:only-of-type {\n",
       "        vertical-align: middle;\n",
       "    }\n",
       "\n",
       "    .dataframe tbody tr th {\n",
       "        vertical-align: top;\n",
       "    }\n",
       "\n",
       "    .dataframe thead th {\n",
       "        text-align: right;\n",
       "    }\n",
       "</style>\n",
       "<table border=\"1\" class=\"dataframe\">\n",
       "  <thead>\n",
       "    <tr style=\"text-align: right;\">\n",
       "      <th></th>\n",
       "      <th>Predicted 0</th>\n",
       "      <th>Predicted 1</th>\n",
       "    </tr>\n",
       "  </thead>\n",
       "  <tbody>\n",
       "    <tr>\n",
       "      <th>Actual 0</th>\n",
       "      <td>1138</td>\n",
       "      <td>15800</td>\n",
       "    </tr>\n",
       "    <tr>\n",
       "      <th>Actual 1</th>\n",
       "      <td>936</td>\n",
       "      <td>67320</td>\n",
       "    </tr>\n",
       "  </tbody>\n",
       "</table>\n",
       "</div>"
      ],
      "text/plain": [
       "          Predicted 0  Predicted 1\n",
       "Actual 0         1138        15800\n",
       "Actual 1          936        67320"
      ]
     },
     "metadata": {},
     "output_type": "display_data"
    },
    {
     "name": "stdout",
     "output_type": "stream",
     "text": [
      "Accuracy Score : 0.8035542409089842\n",
      "Classification Report\n",
      "              precision    recall  f1-score   support\n",
      "\n",
      "           0       0.55      0.07      0.12     16938\n",
      "           1       0.81      0.99      0.89     68256\n",
      "\n",
      "    accuracy                           0.80     85194\n",
      "   macro avg       0.68      0.53      0.50     85194\n",
      "weighted avg       0.76      0.80      0.74     85194\n",
      "\n"
     ]
    }
   ],
   "source": [
    "# Displaying results\n",
    "print(\"Confusion Matrix\")\n",
    "display(cm_df)\n",
    "print(f\"Accuracy Score : {acc_score}\")\n",
    "print(\"Classification Report\")\n",
    "print(classification_report(y_test, testing_predictions))"
   ]
  },
  {
   "cell_type": "code",
   "execution_count": 18,
   "metadata": {},
   "outputs": [],
   "source": [
    "# Instantiate the Logistic Regression model\n",
    "logistic_regression_model2 = LogisticRegression(random_state=78, class_weight=\"balanced\")\n",
    "\n",
    "# Fit the model using training data\n",
    "lr_model2 = logistic_regression_model2.fit(X_train_scaled, y_train)"
   ]
  },
  {
   "cell_type": "code",
   "execution_count": 19,
   "metadata": {},
   "outputs": [],
   "source": [
    "# Make a prediction using the testing data\n",
    "testing_predictions2 = logistic_regression_model2.predict(X_test_scaled)\n",
    "\n",
    "# Generate a confusion matrix for the model\n",
    "testing_matrix2 = confusion_matrix(y_test, testing_predictions2)"
   ]
  },
  {
   "cell_type": "code",
   "execution_count": 20,
   "metadata": {},
   "outputs": [],
   "source": [
    "#Model evaluation \n",
    "cm2 = confusion_matrix(y_test, testing_predictions2)\n",
    "cm_df2 = pd.DataFrame(\n",
    "    cm2, index=[\"Actual 0\", \"Actual 1\"], columns=[\"Predicted 0\", \"Predicted 1\"]\n",
    ")\n",
    "\n",
    "# Calculating the accuracy score\n",
    "from sklearn.metrics import accuracy_score\n",
    "acc_score2 = accuracy_score(y_test, testing_predictions2)"
   ]
  },
  {
   "cell_type": "code",
   "execution_count": 21,
   "metadata": {},
   "outputs": [
    {
     "name": "stdout",
     "output_type": "stream",
     "text": [
      "Confusion Matrix\n"
     ]
    },
    {
     "data": {
      "text/html": [
       "<div>\n",
       "<style scoped>\n",
       "    .dataframe tbody tr th:only-of-type {\n",
       "        vertical-align: middle;\n",
       "    }\n",
       "\n",
       "    .dataframe tbody tr th {\n",
       "        vertical-align: top;\n",
       "    }\n",
       "\n",
       "    .dataframe thead th {\n",
       "        text-align: right;\n",
       "    }\n",
       "</style>\n",
       "<table border=\"1\" class=\"dataframe\">\n",
       "  <thead>\n",
       "    <tr style=\"text-align: right;\">\n",
       "      <th></th>\n",
       "      <th>Predicted 0</th>\n",
       "      <th>Predicted 1</th>\n",
       "    </tr>\n",
       "  </thead>\n",
       "  <tbody>\n",
       "    <tr>\n",
       "      <th>Actual 0</th>\n",
       "      <td>11348</td>\n",
       "      <td>5590</td>\n",
       "    </tr>\n",
       "    <tr>\n",
       "      <th>Actual 1</th>\n",
       "      <td>24198</td>\n",
       "      <td>44058</td>\n",
       "    </tr>\n",
       "  </tbody>\n",
       "</table>\n",
       "</div>"
      ],
      "text/plain": [
       "          Predicted 0  Predicted 1\n",
       "Actual 0        11348         5590\n",
       "Actual 1        24198        44058"
      ]
     },
     "metadata": {},
     "output_type": "display_data"
    },
    {
     "name": "stdout",
     "output_type": "stream",
     "text": [
      "Accuracy Score : 0.6503509636828885\n",
      "Classification Report\n",
      "              precision    recall  f1-score   support\n",
      "\n",
      "           0       0.32      0.67      0.43     16938\n",
      "           1       0.89      0.65      0.75     68256\n",
      "\n",
      "    accuracy                           0.65     85194\n",
      "   macro avg       0.60      0.66      0.59     85194\n",
      "weighted avg       0.77      0.65      0.68     85194\n",
      "\n"
     ]
    }
   ],
   "source": [
    "# Displaying results\n",
    "print(\"Confusion Matrix\")\n",
    "display(cm_df2)\n",
    "print(f\"Accuracy Score : {acc_score2}\")\n",
    "print(\"Classification Report\")\n",
    "print(classification_report(y_test, testing_predictions2))"
   ]
  },
  {
   "cell_type": "code",
   "execution_count": 22,
   "metadata": {},
   "outputs": [],
   "source": [
    "#Fitting the Decision Tree Model \n",
    "from sklearn import tree\n",
    "# Creating the decision tree classifier instance\n",
    "model = tree.DecisionTreeClassifier()"
   ]
  },
  {
   "cell_type": "code",
   "execution_count": 23,
   "metadata": {},
   "outputs": [],
   "source": [
    "model = model.fit(X_train_scaled, y_train)"
   ]
  },
  {
   "cell_type": "code",
   "execution_count": 24,
   "metadata": {},
   "outputs": [],
   "source": [
    "# Making predictions using the testing data\n",
    "predictions = model.predict(X_test_scaled)"
   ]
  },
  {
   "cell_type": "code",
   "execution_count": 25,
   "metadata": {},
   "outputs": [],
   "source": [
    "# Calculating the confusion matrix\n",
    "cm3 = confusion_matrix(y_test, predictions)\n",
    "cm_df3 = pd.DataFrame(\n",
    "    cm3, index=[\"Actual 0\", \"Actual 1\"], columns=[\"Predicted 0\", \"Predicted 1\"]\n",
    ")\n",
    "\n",
    "# Calculating the accuracy score\n",
    "acc_score3 = accuracy_score(y_test, predictions)"
   ]
  },
  {
   "cell_type": "code",
   "execution_count": 26,
   "metadata": {},
   "outputs": [
    {
     "name": "stdout",
     "output_type": "stream",
     "text": [
      "Confusion Matrix\n"
     ]
    },
    {
     "data": {
      "text/html": [
       "<div>\n",
       "<style scoped>\n",
       "    .dataframe tbody tr th:only-of-type {\n",
       "        vertical-align: middle;\n",
       "    }\n",
       "\n",
       "    .dataframe tbody tr th {\n",
       "        vertical-align: top;\n",
       "    }\n",
       "\n",
       "    .dataframe thead th {\n",
       "        text-align: right;\n",
       "    }\n",
       "</style>\n",
       "<table border=\"1\" class=\"dataframe\">\n",
       "  <thead>\n",
       "    <tr style=\"text-align: right;\">\n",
       "      <th></th>\n",
       "      <th>Predicted 0</th>\n",
       "      <th>Predicted 1</th>\n",
       "    </tr>\n",
       "  </thead>\n",
       "  <tbody>\n",
       "    <tr>\n",
       "      <th>Actual 0</th>\n",
       "      <td>5014</td>\n",
       "      <td>11924</td>\n",
       "    </tr>\n",
       "    <tr>\n",
       "      <th>Actual 1</th>\n",
       "      <td>13089</td>\n",
       "      <td>55167</td>\n",
       "    </tr>\n",
       "  </tbody>\n",
       "</table>\n",
       "</div>"
      ],
      "text/plain": [
       "          Predicted 0  Predicted 1\n",
       "Actual 0         5014        11924\n",
       "Actual 1        13089        55167"
      ]
     },
     "metadata": {},
     "output_type": "display_data"
    },
    {
     "name": "stdout",
     "output_type": "stream",
     "text": [
      "Accuracy Score : 0.7063995117027021\n",
      "Classification Report\n",
      "              precision    recall  f1-score   support\n",
      "\n",
      "           0       0.28      0.30      0.29     16938\n",
      "           1       0.82      0.81      0.82     68256\n",
      "\n",
      "    accuracy                           0.71     85194\n",
      "   macro avg       0.55      0.55      0.55     85194\n",
      "weighted avg       0.71      0.71      0.71     85194\n",
      "\n"
     ]
    }
   ],
   "source": [
    "# Displaying results\n",
    "print(\"Confusion Matrix\")\n",
    "display(cm_df3)\n",
    "print(f\"Accuracy Score : {acc_score3}\")\n",
    "print(\"Classification Report\")\n",
    "print(classification_report(y_test, predictions))"
   ]
  },
  {
   "cell_type": "code",
   "execution_count": 27,
   "metadata": {},
   "outputs": [],
   "source": [
    "#decision 2 model 2 with weighted \n",
    "model2 = tree.DecisionTreeClassifier(class_weight=\"balanced\")\n",
    "model2 = model2.fit(X_train_scaled, y_train)\n",
    "# Making predictions using the testing data\n",
    "predictions2 = model2.predict(X_test_scaled)"
   ]
  },
  {
   "cell_type": "code",
   "execution_count": 28,
   "metadata": {},
   "outputs": [],
   "source": [
    "# Calculating the confusion matrix\n",
    "cm4 = confusion_matrix(y_test, predictions2)\n",
    "cm_df4 = pd.DataFrame(\n",
    "    cm4, index=[\"Actual 0\", \"Actual 1\"], columns=[\"Predicted 0\", \"Predicted 1\"]\n",
    ")\n",
    "\n",
    "# Calculating the accuracy score\n",
    "acc_score4 = accuracy_score(y_test, predictions2)"
   ]
  },
  {
   "cell_type": "code",
   "execution_count": 29,
   "metadata": {},
   "outputs": [
    {
     "name": "stdout",
     "output_type": "stream",
     "text": [
      "Confusion Matrix\n"
     ]
    },
    {
     "data": {
      "text/html": [
       "<div>\n",
       "<style scoped>\n",
       "    .dataframe tbody tr th:only-of-type {\n",
       "        vertical-align: middle;\n",
       "    }\n",
       "\n",
       "    .dataframe tbody tr th {\n",
       "        vertical-align: top;\n",
       "    }\n",
       "\n",
       "    .dataframe thead th {\n",
       "        text-align: right;\n",
       "    }\n",
       "</style>\n",
       "<table border=\"1\" class=\"dataframe\">\n",
       "  <thead>\n",
       "    <tr style=\"text-align: right;\">\n",
       "      <th></th>\n",
       "      <th>Predicted 0</th>\n",
       "      <th>Predicted 1</th>\n",
       "    </tr>\n",
       "  </thead>\n",
       "  <tbody>\n",
       "    <tr>\n",
       "      <th>Actual 0</th>\n",
       "      <td>4860</td>\n",
       "      <td>12078</td>\n",
       "    </tr>\n",
       "    <tr>\n",
       "      <th>Actual 1</th>\n",
       "      <td>12249</td>\n",
       "      <td>56007</td>\n",
       "    </tr>\n",
       "  </tbody>\n",
       "</table>\n",
       "</div>"
      ],
      "text/plain": [
       "          Predicted 0  Predicted 1\n",
       "Actual 0         4860        12078\n",
       "Actual 1        12249        56007"
      ]
     },
     "metadata": {},
     "output_type": "display_data"
    },
    {
     "name": "stdout",
     "output_type": "stream",
     "text": [
      "Accuracy Score : 0.7144517219522502\n",
      "Classification Report\n",
      "              precision    recall  f1-score   support\n",
      "\n",
      "           0       0.28      0.29      0.29     16938\n",
      "           1       0.82      0.82      0.82     68256\n",
      "\n",
      "    accuracy                           0.71     85194\n",
      "   macro avg       0.55      0.55      0.55     85194\n",
      "weighted avg       0.72      0.71      0.71     85194\n",
      "\n"
     ]
    }
   ],
   "source": [
    "# Displaying results\n",
    "print(\"Confusion Matrix\")\n",
    "display(cm_df4)\n",
    "print(f\"Accuracy Score : {acc_score4}\")\n",
    "print(\"Classification Report\")\n",
    "print(classification_report(y_test, predictions2))"
   ]
  },
  {
   "cell_type": "code",
   "execution_count": 30,
   "metadata": {},
   "outputs": [],
   "source": [
    "from sklearn.ensemble import RandomForestClassifier\n",
    "# Create a random forest classifier\n",
    "rf_model = RandomForestClassifier(n_estimators=500, random_state=78)"
   ]
  },
  {
   "cell_type": "code",
   "execution_count": 31,
   "metadata": {},
   "outputs": [],
   "source": [
    "# Fitting the model\n",
    "rf_model = rf_model.fit(X_train_scaled, y_train)"
   ]
  },
  {
   "cell_type": "code",
   "execution_count": 32,
   "metadata": {},
   "outputs": [],
   "source": [
    "# Making predictions using the testing data\n",
    "rf_predictions = rf_model.predict(X_test_scaled)"
   ]
  },
  {
   "cell_type": "code",
   "execution_count": 33,
   "metadata": {},
   "outputs": [],
   "source": [
    "# Calculating the confusion matrix\n",
    "rfcm = confusion_matrix(y_test, rf_predictions)\n",
    "rfcm_df = pd.DataFrame(\n",
    "    rfcm, index=[\"Actual 0\", \"Actual 1\"], columns=[\"Predicted 0\", \"Predicted 1\"]\n",
    ")\n",
    "\n",
    "# Calculating the accuracy score\n",
    "rfacc_score = accuracy_score(y_test, rf_predictions)"
   ]
  },
  {
   "cell_type": "code",
   "execution_count": 34,
   "metadata": {},
   "outputs": [
    {
     "name": "stdout",
     "output_type": "stream",
     "text": [
      "Confusion Matrix\n"
     ]
    },
    {
     "data": {
      "text/html": [
       "<div>\n",
       "<style scoped>\n",
       "    .dataframe tbody tr th:only-of-type {\n",
       "        vertical-align: middle;\n",
       "    }\n",
       "\n",
       "    .dataframe tbody tr th {\n",
       "        vertical-align: top;\n",
       "    }\n",
       "\n",
       "    .dataframe thead th {\n",
       "        text-align: right;\n",
       "    }\n",
       "</style>\n",
       "<table border=\"1\" class=\"dataframe\">\n",
       "  <thead>\n",
       "    <tr style=\"text-align: right;\">\n",
       "      <th></th>\n",
       "      <th>Predicted 0</th>\n",
       "      <th>Predicted 1</th>\n",
       "    </tr>\n",
       "  </thead>\n",
       "  <tbody>\n",
       "    <tr>\n",
       "      <th>Actual 0</th>\n",
       "      <td>1273</td>\n",
       "      <td>15665</td>\n",
       "    </tr>\n",
       "    <tr>\n",
       "      <th>Actual 1</th>\n",
       "      <td>1147</td>\n",
       "      <td>67109</td>\n",
       "    </tr>\n",
       "  </tbody>\n",
       "</table>\n",
       "</div>"
      ],
      "text/plain": [
       "          Predicted 0  Predicted 1\n",
       "Actual 0         1273        15665\n",
       "Actual 1         1147        67109"
      ]
     },
     "metadata": {},
     "output_type": "display_data"
    },
    {
     "name": "stdout",
     "output_type": "stream",
     "text": [
      "Accuracy Score : 0.8026621593069935\n",
      "Classification Report\n",
      "              precision    recall  f1-score   support\n",
      "\n",
      "           0       0.53      0.08      0.13     16938\n",
      "           1       0.81      0.98      0.89     68256\n",
      "\n",
      "    accuracy                           0.80     85194\n",
      "   macro avg       0.67      0.53      0.51     85194\n",
      "weighted avg       0.75      0.80      0.74     85194\n",
      "\n"
     ]
    }
   ],
   "source": [
    "# Displaying results\n",
    "print(\"Confusion Matrix\")\n",
    "display(rfcm_df)\n",
    "print(f\"Accuracy Score : {rfacc_score}\")\n",
    "print(\"Classification Report\")\n",
    "print(classification_report(y_test, rf_predictions))"
   ]
  },
  {
   "cell_type": "code",
   "execution_count": 35,
   "metadata": {},
   "outputs": [
    {
     "name": "stdout",
     "output_type": "stream",
     "text": [
      "Feature: dti, Importance: 0.09500825907728239\n",
      "Feature: revol_bal, Importance: 0.08800668677655428\n",
      "Feature: revol_util, Importance: 0.08722937635463968\n",
      "Feature: annual_inc, Importance: 0.08286105908127508\n",
      "Feature: installment, Importance: 0.08106334860948404\n",
      "Feature: int_rate, Importance: 0.07659500152176564\n",
      "Feature: total_acc, Importance: 0.07322947087137992\n",
      "Feature: loan_amnt, Importance: 0.06940799191102648\n",
      "Feature: open_acc, Importance: 0.06342134107460985\n",
      "Feature: mort_acc, Importance: 0.033980265651256544\n",
      "Feature: emp_length_10+ years, Importance: 0.011913928350953498\n",
      "Feature: purpose_debt_consolidation, Importance: 0.01157265405767499\n",
      "Feature: term_ 60 months, Importance: 0.010697726359162685\n",
      "Feature: pub_rec_bankruptcies, Importance: 0.010629776353441903\n",
      "Feature: term_ 36 months, Importance: 0.009925165285416341\n",
      "Feature: purpose_credit_card, Importance: 0.00904561337079467\n",
      "Feature: emp_length_2 years, Importance: 0.007801517788945495\n",
      "Feature: emp_length_< 1 year, Importance: 0.007480724925995394\n",
      "Feature: emp_length_3 years, Importance: 0.007453502557488284\n",
      "Feature: grade_A, Importance: 0.0072287627642563315\n",
      "Feature: home_ownership_RENT, Importance: 0.007017558805513068\n",
      "Feature: emp_length_5 years, Importance: 0.00676257321527262\n",
      "Feature: emp_length_1 year, Importance: 0.006724496184820602\n",
      "Feature: home_ownership_MORTGAGE, Importance: 0.006642629301045562\n",
      "Feature: emp_length_4 years, Importance: 0.0062806207933619315\n",
      "Feature: emp_length_7 years, Importance: 0.006070830245152796\n",
      "Feature: emp_length_8 years, Importance: 0.005960344624524312\n",
      "Feature: emp_length_6 years, Importance: 0.005886425966621595\n",
      "Feature: grade_B, Importance: 0.005797436178689101\n",
      "Feature: grade_E, Importance: 0.005396764448542185\n",
      "Feature: emp_length_9 years, Importance: 0.005231611658607779\n",
      "Feature: home_ownership_OWN, Importance: 0.0052231291753005215\n",
      "Feature: purpose_other, Importance: 0.004909987806080006\n",
      "Feature: purpose_home_improvement, Importance: 0.004753092801271359\n",
      "Feature: grade_C, Importance: 0.00418965035939139\n",
      "Feature: grade_D, Importance: 0.00413210166948291\n",
      "Feature: grade_F, Importance: 0.0030402004286766843\n",
      "Feature: sub_grade_C3, Importance: 0.002788600020088761\n",
      "Feature: sub_grade_C4, Importance: 0.0027873996253961384\n",
      "Feature: purpose_major_purchase, Importance: 0.002617160723933681\n",
      "Feature: sub_grade_C2, Importance: 0.0025399291214090332\n",
      "Feature: purpose_small_business, Importance: 0.002487111057013922\n",
      "Feature: sub_grade_C5, Importance: 0.002461415898059496\n",
      "Feature: sub_grade_D4, Importance: 0.00230690026047482\n",
      "Feature: sub_grade_D2, Importance: 0.0022797927587539383\n",
      "Feature: sub_grade_D1, Importance: 0.0022533184593419046\n",
      "Feature: sub_grade_D3, Importance: 0.00218435123127168\n",
      "Feature: sub_grade_C1, Importance: 0.0021632265565897668\n",
      "Feature: sub_grade_D5, Importance: 0.0020276439155745454\n",
      "Feature: purpose_medical, Importance: 0.0018231768734623592\n",
      "Feature: sub_grade_B3, Importance: 0.0017198603811499245\n",
      "Feature: sub_grade_B4, Importance: 0.0017194100192745574\n",
      "Feature: sub_grade_E2, Importance: 0.0016676714149872908\n",
      "Feature: sub_grade_E1, Importance: 0.0016014472170137969\n",
      "Feature: sub_grade_E3, Importance: 0.001557575518832565\n",
      "Feature: sub_grade_B5, Importance: 0.0014679979355227725\n",
      "Feature: sub_grade_B2, Importance: 0.0014584393468282625\n",
      "Feature: sub_grade_E4, Importance: 0.0014424408682000194\n",
      "Feature: purpose_car, Importance: 0.001419426789583968\n",
      "Feature: purpose_moving, Importance: 0.0013097567685658865\n",
      "Feature: grade_G, Importance: 0.0013029471666347802\n",
      "Feature: sub_grade_E5, Importance: 0.001282602527236447\n",
      "Feature: sub_grade_B1, Importance: 0.0011663731694471634\n",
      "Feature: purpose_vacation, Importance: 0.0011198749217217034\n",
      "Feature: purpose_house, Importance: 0.0010926520319591213\n",
      "Feature: sub_grade_F1, Importance: 0.0008058959924955454\n",
      "Feature: sub_grade_F2, Importance: 0.0007825064307815472\n",
      "Feature: sub_grade_A4, Importance: 0.000753410345570912\n",
      "Feature: sub_grade_F3, Importance: 0.000732472421831917\n",
      "Feature: sub_grade_A5, Importance: 0.0007127810479616799\n",
      "Feature: sub_grade_A1, Importance: 0.0006664533087090634\n",
      "Feature: sub_grade_F4, Importance: 0.0006242716216329136\n",
      "Feature: purpose_wedding, Importance: 0.0005855126056223155\n",
      "Feature: sub_grade_F5, Importance: 0.0005521974240277629\n",
      "Feature: sub_grade_A3, Importance: 0.0004555745932382281\n",
      "Feature: sub_grade_A2, Importance: 0.0004230065050723504\n",
      "Feature: sub_grade_G1, Importance: 0.0003549609382230082\n",
      "Feature: application_type_INDIVIDUAL, Importance: 0.00032281096817435187\n",
      "Feature: sub_grade_G2, Importance: 0.00029987601343734436\n",
      "Feature: purpose_renewable_energy, Importance: 0.0002586219938240768\n",
      "Feature: sub_grade_G3, Importance: 0.0002487918243609944\n",
      "Feature: application_type_JOINT, Importance: 0.00018539426155905406\n",
      "Feature: sub_grade_G5, Importance: 0.00017917945070752394\n",
      "Feature: application_type_DIRECT_PAY, Importance: 0.00016891272740162451\n",
      "Feature: sub_grade_G4, Importance: 0.00016797240807035223\n",
      "Feature: home_ownership_NONE, Importance: 5.6085910848620557e-05\n",
      "Feature: home_ownership_OTHER, Importance: 4.188689474802383e-05\n",
      "Feature: home_ownership_ANY, Importance: 9.294696696619338e-07\n",
      "Feature: purpose_educational, Importance: 3.6585794489228693e-07\n"
     ]
    }
   ],
   "source": [
    "# calculate feature importance\n",
    "feature_names = clean_df.drop(columns=[\"loan_status\"]).columns.tolist()\n",
    "\n",
    "importances = rf_model.feature_importances_\n",
    "\n",
    "# sort the features by their importance\n",
    "sorted_features = sorted(zip(importances, feature_names), reverse=True)\n",
    "\n",
    "# Display the sorted features\n",
    "for importance, feature in sorted_features:\n",
    "    print(f\"Feature: {feature}, Importance: {importance}\")\n"
   ]
  },
  {
   "cell_type": "code",
   "execution_count": 36,
   "metadata": {},
   "outputs": [
    {
     "name": "stdout",
     "output_type": "stream",
     "text": [
      "[(0.09500825907728239, 'dti'), (0.08800668677655428, 'revol_bal'), (0.08722937635463968, 'revol_util'), (0.08286105908127508, 'annual_inc'), (0.08106334860948404, 'installment'), (0.07659500152176564, 'int_rate'), (0.07322947087137992, 'total_acc'), (0.06940799191102648, 'loan_amnt'), (0.06342134107460985, 'open_acc'), (0.033980265651256544, 'mort_acc'), (0.011913928350953498, 'emp_length_10+ years'), (0.01157265405767499, 'purpose_debt_consolidation'), (0.010697726359162685, 'term_ 60 months'), (0.010629776353441903, 'pub_rec_bankruptcies'), (0.009925165285416341, 'term_ 36 months'), (0.00904561337079467, 'purpose_credit_card'), (0.007801517788945495, 'emp_length_2 years'), (0.007480724925995394, 'emp_length_< 1 year'), (0.007453502557488284, 'emp_length_3 years'), (0.0072287627642563315, 'grade_A'), (0.007017558805513068, 'home_ownership_RENT'), (0.00676257321527262, 'emp_length_5 years'), (0.006724496184820602, 'emp_length_1 year'), (0.006642629301045562, 'home_ownership_MORTGAGE'), (0.0062806207933619315, 'emp_length_4 years'), (0.006070830245152796, 'emp_length_7 years'), (0.005960344624524312, 'emp_length_8 years'), (0.005886425966621595, 'emp_length_6 years'), (0.005797436178689101, 'grade_B'), (0.005396764448542185, 'grade_E'), (0.005231611658607779, 'emp_length_9 years'), (0.0052231291753005215, 'home_ownership_OWN'), (0.004909987806080006, 'purpose_other'), (0.004753092801271359, 'purpose_home_improvement'), (0.00418965035939139, 'grade_C'), (0.00413210166948291, 'grade_D'), (0.0030402004286766843, 'grade_F'), (0.002788600020088761, 'sub_grade_C3'), (0.0027873996253961384, 'sub_grade_C4'), (0.002617160723933681, 'purpose_major_purchase'), (0.0025399291214090332, 'sub_grade_C2'), (0.002487111057013922, 'purpose_small_business'), (0.002461415898059496, 'sub_grade_C5'), (0.00230690026047482, 'sub_grade_D4'), (0.0022797927587539383, 'sub_grade_D2'), (0.0022533184593419046, 'sub_grade_D1'), (0.00218435123127168, 'sub_grade_D3'), (0.0021632265565897668, 'sub_grade_C1'), (0.0020276439155745454, 'sub_grade_D5'), (0.0018231768734623592, 'purpose_medical'), (0.0017198603811499245, 'sub_grade_B3'), (0.0017194100192745574, 'sub_grade_B4'), (0.0016676714149872908, 'sub_grade_E2'), (0.0016014472170137969, 'sub_grade_E1'), (0.001557575518832565, 'sub_grade_E3'), (0.0014679979355227725, 'sub_grade_B5'), (0.0014584393468282625, 'sub_grade_B2'), (0.0014424408682000194, 'sub_grade_E4'), (0.001419426789583968, 'purpose_car'), (0.0013097567685658865, 'purpose_moving'), (0.0013029471666347802, 'grade_G'), (0.001282602527236447, 'sub_grade_E5'), (0.0011663731694471634, 'sub_grade_B1'), (0.0011198749217217034, 'purpose_vacation'), (0.0010926520319591213, 'purpose_house'), (0.0008058959924955454, 'sub_grade_F1'), (0.0007825064307815472, 'sub_grade_F2'), (0.000753410345570912, 'sub_grade_A4'), (0.000732472421831917, 'sub_grade_F3'), (0.0007127810479616799, 'sub_grade_A5'), (0.0006664533087090634, 'sub_grade_A1'), (0.0006242716216329136, 'sub_grade_F4'), (0.0005855126056223155, 'purpose_wedding'), (0.0005521974240277629, 'sub_grade_F5'), (0.0004555745932382281, 'sub_grade_A3'), (0.0004230065050723504, 'sub_grade_A2'), (0.0003549609382230082, 'sub_grade_G1'), (0.00032281096817435187, 'application_type_INDIVIDUAL'), (0.00029987601343734436, 'sub_grade_G2'), (0.0002586219938240768, 'purpose_renewable_energy'), (0.0002487918243609944, 'sub_grade_G3'), (0.00018539426155905406, 'application_type_JOINT'), (0.00017917945070752394, 'sub_grade_G5'), (0.00016891272740162451, 'application_type_DIRECT_PAY'), (0.00016797240807035223, 'sub_grade_G4'), (5.6085910848620557e-05, 'home_ownership_NONE'), (4.188689474802383e-05, 'home_ownership_OTHER'), (9.294696696619338e-07, 'home_ownership_ANY'), (3.6585794489228693e-07, 'purpose_educational')]\n"
     ]
    }
   ],
   "source": [
    "print(sorted_features)"
   ]
  },
  {
   "cell_type": "code",
   "execution_count": 37,
   "metadata": {},
   "outputs": [
    {
     "name": "stdout",
     "output_type": "stream",
     "text": [
      "['loan_amnt', 'int_rate', 'installment', 'annual_inc', 'dti', 'open_acc', 'revol_bal', 'revol_util', 'total_acc', 'mort_acc', 'pub_rec_bankruptcies', 'term_ 36 months', 'term_ 60 months', 'grade_A', 'grade_B', 'grade_C', 'grade_D', 'grade_E', 'grade_F', 'grade_G', 'sub_grade_A1', 'sub_grade_A2', 'sub_grade_A3', 'sub_grade_A4', 'sub_grade_A5', 'sub_grade_B1', 'sub_grade_B2', 'sub_grade_B3', 'sub_grade_B4', 'sub_grade_B5', 'sub_grade_C1', 'sub_grade_C2', 'sub_grade_C3', 'sub_grade_C4', 'sub_grade_C5', 'sub_grade_D1', 'sub_grade_D2', 'sub_grade_D3', 'sub_grade_D4', 'sub_grade_D5', 'sub_grade_E1', 'sub_grade_E2', 'sub_grade_E3', 'sub_grade_E4', 'sub_grade_E5', 'sub_grade_F1', 'sub_grade_F2', 'sub_grade_F3', 'sub_grade_F4', 'sub_grade_F5', 'sub_grade_G1', 'sub_grade_G2', 'sub_grade_G3', 'sub_grade_G4', 'sub_grade_G5', 'emp_length_1 year', 'emp_length_10+ years', 'emp_length_2 years', 'emp_length_3 years', 'emp_length_4 years', 'emp_length_5 years', 'emp_length_6 years', 'emp_length_7 years', 'emp_length_8 years', 'emp_length_9 years', 'emp_length_< 1 year', 'home_ownership_ANY', 'home_ownership_MORTGAGE', 'home_ownership_NONE', 'home_ownership_OTHER', 'home_ownership_OWN', 'home_ownership_RENT', 'purpose_car', 'purpose_credit_card', 'purpose_debt_consolidation', 'purpose_educational', 'purpose_home_improvement', 'purpose_house', 'purpose_major_purchase', 'purpose_medical', 'purpose_moving', 'purpose_other', 'purpose_renewable_energy', 'purpose_small_business', 'purpose_vacation', 'purpose_wedding', 'application_type_DIRECT_PAY', 'application_type_INDIVIDUAL', 'application_type_JOINT']\n"
     ]
    }
   ],
   "source": [
    "print(feature_names)"
   ]
  },
  {
   "cell_type": "code",
   "execution_count": 38,
   "metadata": {},
   "outputs": [
    {
     "data": {
      "image/png": "[encoded data removed]",
      "text/plain": [
       "<Figure size 640x480 with 1 Axes>"
      ]
     },
     "metadata": {},
     "output_type": "display_data"
    }
   ],
   "source": [
    "import matplotlib.pyplot as plt  \n",
    "\n",
    "# Create a DataFrame with feature names and importances\n",
    "importances_df = pd.DataFrame({\n",
    "    'Feature': feature_names,\n",
    "    'Importance': importances\n",
    "})\n",
    "\n",
    "# Sort the DataFrame by importance\n",
    "importances_sorted = importances_df.sort_values(by='Importance', ascending=False)\n",
    "\n",
    "# Select the top 10 features\n",
    "top_10_features = importances_sorted.head(10)\n",
    "\n",
    "# Plot the top 10 feature importances\n",
    "top_10_features.plot(kind='barh', x='Feature', y='Importance', color='lightgreen', title='Top 10 Feature Importances', legend=False)\n",
    "\n",
    "# Show plot\n",
    "plt.xlabel('Importance')\n",
    "plt.ylabel('Feature')\n",
    "plt.show()\n"
   ]
  },
  {
   "cell_type": "code",
   "execution_count": null,
   "metadata": {},
   "outputs": [],
   "source": []
  }
 ],
 "metadata": {
  "kernelspec": {
   "display_name": "base",
   "language": "python",
   "name": "python3"
  },
  "language_info": {
   "codemirror_mode": {
    "name": "ipython",
    "version": 3
   },
   "file_extension": ".py",
   "mimetype": "text/x-python",
   "name": "python",
   "nbconvert_exporter": "python",
   "pygments_lexer": "ipython3",
   "version": "3.10.13"
  }
 },
 "nbformat": 4,
 "nbformat_minor": 2
}
